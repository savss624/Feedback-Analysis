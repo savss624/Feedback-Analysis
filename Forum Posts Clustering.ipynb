{
 "cells": [
  {
   "cell_type": "markdown",
   "id": "0f180fc4",
   "metadata": {},
   "source": [
    "# API Testing\n",
    "\n",
    "Github - https://github.com/savss624/Feedback-Analysis\n",
    "\n",
    "Heroku - https://datax-forumpost-clustering.herokuapp.com/"
   ]
  },
  {
   "cell_type": "code",
   "execution_count": 11,
   "id": "4dc843fa",
   "metadata": {},
   "outputs": [],
   "source": [
    "import requests\n",
    "import json\n",
    "import pandas as pd\n",
    "\n",
    "url = \"https://datax-forumpost-clustering.herokuapp.com\"\n",
    "headers = {\n",
    "    \"Content-Type\": \"application/json\"\n",
    "}\n",
    "\n",
    "forum_posts = {}\n",
    "df = pd.read_csv('./ForumPostsWithEmbeds_Set0.csv')\n",
    "for post_data in df.values:\n",
    "    # extracting first column of Messages\n",
    "    post = post_data[0] \n",
    "    # extracting rest of the columns as Message Embeddings\n",
    "    post_embeds = list(post_data[1:])\n",
    "    forum_posts[post] = post_embeds\n",
    "list(forum_posts.items())[0]\n",
    "\n",
    "res = requests.post(url, headers=headers, data=json.dumps(forum_posts))\n",
    "data = res.json()"
   ]
  },
  {
   "cell_type": "code",
   "execution_count": 12,
   "id": "43f2b686",
   "metadata": {},
   "outputs": [
    {
     "data": {
      "text/plain": [
       "{'1': 7,\n",
       " '2': 7,\n",
       " '3': 2,\n",
       " '4': 13,\n",
       " '5': 89,\n",
       " '6': 3,\n",
       " '7': 13,\n",
       " '9': 2,\n",
       " '10': 84,\n",
       " '14': 9}"
      ]
     },
     "execution_count": 12,
     "metadata": {},
     "output_type": "execute_result"
    }
   ],
   "source": [
    "data['distribution']"
   ]
  },
  {
   "cell_type": "code",
   "execution_count": 13,
   "id": "572826e4",
   "metadata": {},
   "outputs": [
    {
     "data": {
      "text/plain": [
       "84"
      ]
     },
     "execution_count": 13,
     "metadata": {},
     "output_type": "execute_result"
    }
   ],
   "source": [
    "len(data['clusters']['Cluster 10'])"
   ]
  },
  {
   "cell_type": "code",
   "execution_count": 14,
   "id": "2b180094",
   "metadata": {},
   "outputs": [
    {
     "data": {
      "text/plain": [
       "[\"Hi\\nToday, I read an amazing article in Medium about K-Means Clustering. I think it's very useful for all who want to learn it basically. \\nPlease check the following link. Hope to enjoy it:\\nhttps://towardsdatascience.com/k-means-clustering-explain-it-to-me-like-im-10-e0badf10734a \",\n",
       " '@herbison The 42nd version of this notebook, for example.\\n',\n",
       " 'Are you able to submit the packages you routinely find missing to our docker image? https://github.com/Kaggle/docker-python',\n",
       " 'Hi! 0.124 See here https://www.kaggle.com/tarlannazarov/ubiquant-cuml-random-forest-first-try',\n",
       " 'Hi Marco,\\nthanks for your reply\\ni am getting sMAPE = 1.98, please have look on my code\\nhttps://www.kaggle.com/quamarequbal/tabular-playground-series-jan-2022',\n",
       " 'https://drive.google.com/file/d/1wx3LCb2At1GwsvC6-zuY28Av8ZovXLcV/view?usp=sharing',\n",
       " 'Oh, great. Thank you. Here is the link - https://www.kaggle.com/sigallechno/exercise-categorical-variables. \\nThanks, Sigal',\n",
       " 'Hey Guys, \\nPlease have a look on my practice data visualization on the same dataset.\\nif you have any suggestion please let me know.\\nhttps://public.tableau.com/app/profile/nihar6627',\n",
       " 'Hi @maaario, it looks like you have an old version of the exercise.  Could you please delete this notebook and restart the exercise by following the instructions here? https://www.kaggle.com/learn-faq']"
      ]
     },
     "execution_count": 14,
     "metadata": {},
     "output_type": "execute_result"
    }
   ],
   "source": [
    "data['clusters']['Cluster 14']"
   ]
  }
 ],
 "metadata": {
  "kernelspec": {
   "display_name": "Python 3 (ipykernel)",
   "language": "python",
   "name": "python3"
  },
  "language_info": {
   "codemirror_mode": {
    "name": "ipython",
    "version": 3
   },
   "file_extension": ".py",
   "mimetype": "text/x-python",
   "name": "python",
   "nbconvert_exporter": "python",
   "pygments_lexer": "ipython3",
   "version": "3.9.6"
  }
 },
 "nbformat": 4,
 "nbformat_minor": 5
}
